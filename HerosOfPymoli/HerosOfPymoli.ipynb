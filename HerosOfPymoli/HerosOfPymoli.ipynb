{
 "cells": [
  {
   "cell_type": "code",
   "execution_count": null,
   "metadata": {},
   "outputs": [],
   "source": [
    "# Dependencies\n",
    "import pandas as pd"
   ]
  },
  {
   "cell_type": "code",
   "execution_count": null,
   "metadata": {},
   "outputs": [],
   "source": [
    "# Store filepath in a variable\n",
    "file_to_load = \"Resources/purchase_data.csv\""
   ]
  },
  {
   "cell_type": "code",
   "execution_count": null,
   "metadata": {},
   "outputs": [],
   "source": [
    "# Read purchase file and store into Pandas data frame\n",
    "purchase_data_df= pd.read_csv(file_to_load) \n",
    "purchase_data_df.head()"
   ]
  },
  {
   "cell_type": "code",
   "execution_count": null,
   "metadata": {},
   "outputs": [],
   "source": [
    "# Display counting number of players\n",
    "unique_players = len(purchase_data_df[\"SN\"].unique())\n",
    "unique_players\n",
    "\n",
    "total_players_df = pd.DataFrame({\"Total Players\":[unique_players]})\n",
    "total_players_df"
   ]
  },
  {
   "cell_type": "code",
   "execution_count": null,
   "metadata": {},
   "outputs": [],
   "source": [
    "# Display the count for \"Item ID\"\n",
    "unique_item = len(purchase_data_df[\"Item ID\"].unique())\n",
    "unique_item \n",
    "\n",
    "# Display average purchase price\n",
    "average_price = purchase_data_df[\"Price\"].mean()\n",
    "average_price = round(average_price,2)\n",
    "average_price\n",
    "\n",
    "# Display total number of purchases\n",
    "total_number_purchase = purchase_data_df[\"Price\"].count()\n",
    "total_number_purchase\n",
    "\n",
    "# Display total reveune\n",
    "total_revenue = purchase_data_df[\"Price\"].sum()\n",
    "total_revenue\n",
    "\n",
    "purchase_analysis = pd.DataFrame({\"Number of Unique Items\":unique_item,\n",
    "                                  \"Average Purchase Price\":[average_price],\n",
    "                                  \"Total Number of Purchases\":[total_number_purchase],\n",
    "                                   \"Total Revenue\":[total_revenue]})\n",
    "\n",
    "purchase_analysis[\"Total Revenue\"] = purchase_analysis[\"Total Revenue\"].map(\"${:,.2f}\".format)\n",
    "purchase_analysis[\"Average Purchase Price\"] = purchase_analysis[\"Average Purchase Price\"].map(\"${:,.2f}\".format)\n",
    "\n",
    "purchase_analysis"
   ]
  },
  {
   "cell_type": "code",
   "execution_count": null,
   "metadata": {},
   "outputs": [],
   "source": []
  },
  {
   "cell_type": "code",
   "execution_count": null,
   "metadata": {},
   "outputs": [],
   "source": []
  }
 ],
 "metadata": {
  "kernelspec": {
   "display_name": "PythonData",
   "language": "python",
   "name": "pythondata"
  },
  "language_info": {
   "codemirror_mode": {
    "name": "ipython",
    "version": 3
   },
   "file_extension": ".py",
   "mimetype": "text/x-python",
   "name": "python",
   "nbconvert_exporter": "python",
   "pygments_lexer": "ipython3",
   "version": "3.8.1"
  }
 },
 "nbformat": 4,
 "nbformat_minor": 4
}
